{
 "cells": [
  {
   "cell_type": "code",
   "execution_count": 25,
   "id": "75dc3d22-ace5-4c11-8348-57682923fa9f",
   "metadata": {},
   "outputs": [],
   "source": [
    "import pandas as pd\n",
    "import numpy as np\n",
    "import tensorflow as tf\n",
    "from tensorflow.keras.models import Sequential\n",
    "from tensorflow.keras.layers import Dense, Input\n",
    "from sklearn.model_selection import train_test_split\n",
    "import matplotlib.pyplot as plt\n"
   ]
  },
  {
   "cell_type": "code",
   "execution_count": 26,
   "id": "791ce9b1-9f5a-48bc-ad6b-febe0d39c4cd",
   "metadata": {},
   "outputs": [
    {
     "data": {
      "text/html": [
       "<div>\n",
       "<style scoped>\n",
       "    .dataframe tbody tr th:only-of-type {\n",
       "        vertical-align: middle;\n",
       "    }\n",
       "\n",
       "    .dataframe tbody tr th {\n",
       "        vertical-align: top;\n",
       "    }\n",
       "\n",
       "    .dataframe thead th {\n",
       "        text-align: right;\n",
       "    }\n",
       "</style>\n",
       "<table border=\"1\" class=\"dataframe\">\n",
       "  <thead>\n",
       "    <tr style=\"text-align: right;\">\n",
       "      <th></th>\n",
       "      <th>ball_speed</th>\n",
       "      <th>stump_coverage</th>\n",
       "      <th>landing_x</th>\n",
       "      <th>landing_y</th>\n",
       "      <th>wicket</th>\n",
       "    </tr>\n",
       "  </thead>\n",
       "  <tbody>\n",
       "    <tr>\n",
       "      <th>0</th>\n",
       "      <td>140</td>\n",
       "      <td>80</td>\n",
       "      <td>-1.5</td>\n",
       "      <td>20</td>\n",
       "      <td>1</td>\n",
       "    </tr>\n",
       "    <tr>\n",
       "      <th>1</th>\n",
       "      <td>130</td>\n",
       "      <td>60</td>\n",
       "      <td>-0.5</td>\n",
       "      <td>19</td>\n",
       "      <td>0</td>\n",
       "    </tr>\n",
       "    <tr>\n",
       "      <th>2</th>\n",
       "      <td>120</td>\n",
       "      <td>70</td>\n",
       "      <td>0.0</td>\n",
       "      <td>21</td>\n",
       "      <td>0</td>\n",
       "    </tr>\n",
       "    <tr>\n",
       "      <th>3</th>\n",
       "      <td>110</td>\n",
       "      <td>50</td>\n",
       "      <td>1.5</td>\n",
       "      <td>22</td>\n",
       "      <td>1</td>\n",
       "    </tr>\n",
       "    <tr>\n",
       "      <th>4</th>\n",
       "      <td>115</td>\n",
       "      <td>75</td>\n",
       "      <td>-1.0</td>\n",
       "      <td>18</td>\n",
       "      <td>0</td>\n",
       "    </tr>\n",
       "  </tbody>\n",
       "</table>\n",
       "</div>"
      ],
      "text/plain": [
       "   ball_speed  stump_coverage  landing_x  landing_y  wicket\n",
       "0         140              80       -1.5         20       1\n",
       "1         130              60       -0.5         19       0\n",
       "2         120              70        0.0         21       0\n",
       "3         110              50        1.5         22       1\n",
       "4         115              75       -1.0         18       0"
      ]
     },
     "execution_count": 26,
     "metadata": {},
     "output_type": "execute_result"
    }
   ],
   "source": [
    "# Load the dataset\n",
    "df = pd.read_csv('xwickets_dataset.csv')\n",
    "\n",
    "# Display the first few rows of the dataset\n",
    "df.head()"
   ]
  },
  {
   "cell_type": "code",
   "execution_count": 27,
   "id": "515a7f54-4e4d-41f5-aca6-047cb2ca526f",
   "metadata": {},
   "outputs": [],
   "source": [
    "# Split the data into features and target\n",
    "X = df[['ball_speed', 'stump_coverage', 'landing_x', 'landing_y']].values\n",
    "y = df['wicket'].values\n",
    "\n",
    "# Split the dataset into training and testing sets\n",
    "X_train, X_test, y_train, y_test = train_test_split(X, y, test_size=0.2, random_state=42)\n",
    "\n"
   ]
  },
  {
   "cell_type": "code",
   "execution_count": 28,
   "id": "9740bb8b-7144-49c6-a3af-97a821d5ac37",
   "metadata": {},
   "outputs": [],
   "source": [
    "# Build a Neural Network Model\n",
    "model = Sequential([\n",
    "    Input(shape=(X_train.shape[1],)),  # Define input layer with shape of the input data\n",
    "    Dense(16, activation='relu'),\n",
    "    Dense(32, activation='relu'),\n",
    "    Dense(1, activation='sigmoid')  # Output layer for binary classification\n",
    "])\n"
   ]
  },
  {
   "cell_type": "code",
   "execution_count": 29,
   "id": "29a7f9ae-544b-49f5-acc4-d60d2e9c77bd",
   "metadata": {},
   "outputs": [],
   "source": [
    "# Define Custom Metric: xW (Expected Wickets)\n",
    "def custom_xW_metric(y_true, y_pred):\n",
    "    y_true = tf.cast(y_true, tf.float32)  # Ensure both y_true and y_pred are float32\n",
    "    return tf.reduce_mean(tf.abs(y_true - y_pred))\n",
    "\n",
    "# Compile the Model\n",
    "model.compile(optimizer='adam', \n",
    "              loss='binary_crossentropy', \n",
    "              metrics=['accuracy', custom_xW_metric])\n",
    "\n"
   ]
  },
  {
   "cell_type": "code",
   "execution_count": 30,
   "id": "bc8aa7bc-14a0-484e-8487-382494ff2500",
   "metadata": {
    "scrolled": true
   },
   "outputs": [
    {
     "name": "stdout",
     "output_type": "stream",
     "text": [
      "Epoch 1/30\n",
      "\u001b[1m1/1\u001b[0m \u001b[32m━━━━━━━━━━━━━━━━━━━━\u001b[0m\u001b[37m\u001b[0m \u001b[1m2s\u001b[0m 2s/step - accuracy: 0.6667 - custom_x_w_metric: 0.3333 - loss: 4.8931 - val_accuracy: 0.0000e+00 - val_custom_x_w_metric: 0.9994 - val_loss: 7.4796\n",
      "Epoch 2/30\n",
      "\u001b[1m1/1\u001b[0m \u001b[32m━━━━━━━━━━━━━━━━━━━━\u001b[0m\u001b[37m\u001b[0m \u001b[1m0s\u001b[0m 111ms/step - accuracy: 0.6667 - custom_x_w_metric: 0.3333 - loss: 4.1466 - val_accuracy: 0.0000e+00 - val_custom_x_w_metric: 0.9970 - val_loss: 5.8137\n",
      "Epoch 3/30\n",
      "\u001b[1m1/1\u001b[0m \u001b[32m━━━━━━━━━━━━━━━━━━━━\u001b[0m\u001b[37m\u001b[0m \u001b[1m0s\u001b[0m 104ms/step - accuracy: 0.6667 - custom_x_w_metric: 0.3334 - loss: 3.4033 - val_accuracy: 0.0000e+00 - val_custom_x_w_metric: 0.9844 - val_loss: 4.1632\n",
      "Epoch 4/30\n",
      "\u001b[1m1/1\u001b[0m \u001b[32m━━━━━━━━━━━━━━━━━━━━\u001b[0m\u001b[37m\u001b[0m \u001b[1m0s\u001b[0m 112ms/step - accuracy: 0.6667 - custom_x_w_metric: 0.3341 - loss: 2.6639 - val_accuracy: 0.0000e+00 - val_custom_x_w_metric: 0.9234 - val_loss: 2.5693\n",
      "Epoch 5/30\n",
      "\u001b[1m1/1\u001b[0m \u001b[32m━━━━━━━━━━━━━━━━━━━━\u001b[0m\u001b[37m\u001b[0m \u001b[1m0s\u001b[0m 121ms/step - accuracy: 0.6667 - custom_x_w_metric: 0.3382 - loss: 1.9374 - val_accuracy: 0.0000e+00 - val_custom_x_w_metric: 0.7031 - val_loss: 1.2143\n",
      "Epoch 6/30\n",
      "\u001b[1m1/1\u001b[0m \u001b[32m━━━━━━━━━━━━━━━━━━━━\u001b[0m\u001b[37m\u001b[0m \u001b[1m0s\u001b[0m 89ms/step - accuracy: 0.6667 - custom_x_w_metric: 0.3620 - loss: 1.2783 - val_accuracy: 1.0000 - val_custom_x_w_metric: 0.3313 - val_loss: 0.4024\n",
      "Epoch 7/30\n",
      "\u001b[1m1/1\u001b[0m \u001b[32m━━━━━━━━━━━━━━━━━━━━\u001b[0m\u001b[37m\u001b[0m \u001b[1m0s\u001b[0m 148ms/step - accuracy: 0.3333 - custom_x_w_metric: 0.4512 - loss: 0.9180 - val_accuracy: 1.0000 - val_custom_x_w_metric: 0.1101 - val_loss: 0.1166\n",
      "Epoch 8/30\n",
      "\u001b[1m1/1\u001b[0m \u001b[32m━━━━━━━━━━━━━━━━━━━━\u001b[0m\u001b[37m\u001b[0m \u001b[1m0s\u001b[0m 87ms/step - accuracy: 0.3333 - custom_x_w_metric: 0.5769 - loss: 1.1834 - val_accuracy: 1.0000 - val_custom_x_w_metric: 0.0507 - val_loss: 0.0521\n",
      "Epoch 9/30\n",
      "\u001b[1m1/1\u001b[0m \u001b[32m━━━━━━━━━━━━━━━━━━━━\u001b[0m\u001b[37m\u001b[0m \u001b[1m0s\u001b[0m 199ms/step - accuracy: 0.3333 - custom_x_w_metric: 0.6267 - loss: 1.6228 - val_accuracy: 1.0000 - val_custom_x_w_metric: 0.0382 - val_loss: 0.0390\n",
      "Epoch 10/30\n",
      "\u001b[1m1/1\u001b[0m \u001b[32m━━━━━━━━━━━━━━━━━━━━\u001b[0m\u001b[37m\u001b[0m \u001b[1m0s\u001b[0m 103ms/step - accuracy: 0.3333 - custom_x_w_metric: 0.6373 - loss: 1.8005 - val_accuracy: 1.0000 - val_custom_x_w_metric: 0.0421 - val_loss: 0.0431\n",
      "Epoch 11/30\n",
      "\u001b[1m1/1\u001b[0m \u001b[32m━━━━━━━━━━━━━━━━━━━━\u001b[0m\u001b[37m\u001b[0m \u001b[1m0s\u001b[0m 67ms/step - accuracy: 0.3333 - custom_x_w_metric: 0.6334 - loss: 1.7227 - val_accuracy: 1.0000 - val_custom_x_w_metric: 0.0607 - val_loss: 0.0626\n",
      "Epoch 12/30\n",
      "\u001b[1m1/1\u001b[0m \u001b[32m━━━━━━━━━━━━━━━━━━━━\u001b[0m\u001b[37m\u001b[0m \u001b[1m0s\u001b[0m 77ms/step - accuracy: 0.3333 - custom_x_w_metric: 0.6159 - loss: 1.4767 - val_accuracy: 1.0000 - val_custom_x_w_metric: 0.1033 - val_loss: 0.1090\n",
      "Epoch 13/30\n",
      "\u001b[1m1/1\u001b[0m \u001b[32m━━━━━━━━━━━━━━━━━━━━\u001b[0m\u001b[37m\u001b[0m \u001b[1m0s\u001b[0m 74ms/step - accuracy: 0.3333 - custom_x_w_metric: 0.5776 - loss: 1.1712 - val_accuracy: 1.0000 - val_custom_x_w_metric: 0.1868 - val_loss: 0.2068\n",
      "Epoch 14/30\n",
      "\u001b[1m1/1\u001b[0m \u001b[32m━━━━━━━━━━━━━━━━━━━━\u001b[0m\u001b[37m\u001b[0m \u001b[1m0s\u001b[0m 156ms/step - accuracy: 0.0000e+00 - custom_x_w_metric: 0.5155 - loss: 0.9393 - val_accuracy: 1.0000 - val_custom_x_w_metric: 0.3177 - val_loss: 0.3823\n",
      "Epoch 15/30\n",
      "\u001b[1m1/1\u001b[0m \u001b[32m━━━━━━━━━━━━━━━━━━━━\u001b[0m\u001b[37m\u001b[0m \u001b[1m0s\u001b[0m 76ms/step - accuracy: 0.6667 - custom_x_w_metric: 0.4489 - loss: 0.8758 - val_accuracy: 1.0000 - val_custom_x_w_metric: 0.4647 - val_loss: 0.6249\n",
      "Epoch 16/30\n",
      "\u001b[1m1/1\u001b[0m \u001b[32m━━━━━━━━━━━━━━━━━━━━\u001b[0m\u001b[37m\u001b[0m \u001b[1m0s\u001b[0m 245ms/step - accuracy: 0.6667 - custom_x_w_metric: 0.4018 - loss: 0.9517 - val_accuracy: 0.0000e+00 - val_custom_x_w_metric: 0.5818 - val_loss: 0.8718\n",
      "Epoch 17/30\n",
      "\u001b[1m1/1\u001b[0m \u001b[32m━━━━━━━━━━━━━━━━━━━━\u001b[0m\u001b[37m\u001b[0m \u001b[1m0s\u001b[0m 138ms/step - accuracy: 0.6667 - custom_x_w_metric: 0.3765 - loss: 1.0707 - val_accuracy: 0.0000e+00 - val_custom_x_w_metric: 0.6514 - val_loss: 1.0537\n",
      "Epoch 18/30\n",
      "\u001b[1m1/1\u001b[0m \u001b[32m━━━━━━━━━━━━━━━━━━━━\u001b[0m\u001b[37m\u001b[0m \u001b[1m0s\u001b[0m 78ms/step - accuracy: 0.6667 - custom_x_w_metric: 0.3649 - loss: 1.1649 - val_accuracy: 0.0000e+00 - val_custom_x_w_metric: 0.6781 - val_loss: 1.1334\n",
      "Epoch 19/30\n",
      "\u001b[1m1/1\u001b[0m \u001b[32m━━━━━━━━━━━━━━━━━━━━\u001b[0m\u001b[37m\u001b[0m \u001b[1m0s\u001b[0m 85ms/step - accuracy: 0.6667 - custom_x_w_metric: 0.3608 - loss: 1.2073 - val_accuracy: 0.0000e+00 - val_custom_x_w_metric: 0.6690 - val_loss: 1.1057\n",
      "Epoch 20/30\n",
      "\u001b[1m1/1\u001b[0m \u001b[32m━━━━━━━━━━━━━━━━━━━━\u001b[0m\u001b[37m\u001b[0m \u001b[1m0s\u001b[0m 68ms/step - accuracy: 0.6667 - custom_x_w_metric: 0.3616 - loss: 1.1943 - val_accuracy: 0.0000e+00 - val_custom_x_w_metric: 0.6275 - val_loss: 0.9876\n",
      "Epoch 21/30\n",
      "\u001b[1m1/1\u001b[0m \u001b[32m━━━━━━━━━━━━━━━━━━━━\u001b[0m\u001b[37m\u001b[0m \u001b[1m0s\u001b[0m 73ms/step - accuracy: 0.6667 - custom_x_w_metric: 0.3671 - loss: 1.1339 - val_accuracy: 0.0000e+00 - val_custom_x_w_metric: 0.5554 - val_loss: 0.8105\n",
      "Epoch 22/30\n",
      "\u001b[1m1/1\u001b[0m \u001b[32m━━━━━━━━━━━━━━━━━━━━\u001b[0m\u001b[37m\u001b[0m \u001b[1m0s\u001b[0m 62ms/step - accuracy: 0.6667 - custom_x_w_metric: 0.3785 - loss: 1.0424 - val_accuracy: 1.0000 - val_custom_x_w_metric: 0.4586 - val_loss: 0.6136\n",
      "Epoch 23/30\n",
      "\u001b[1m1/1\u001b[0m \u001b[32m━━━━━━━━━━━━━━━━━━━━\u001b[0m\u001b[37m\u001b[0m \u001b[1m0s\u001b[0m 64ms/step - accuracy: 0.6667 - custom_x_w_metric: 0.3981 - loss: 0.9441 - val_accuracy: 1.0000 - val_custom_x_w_metric: 0.3527 - val_loss: 0.4350\n",
      "Epoch 24/30\n",
      "\u001b[1m1/1\u001b[0m \u001b[32m━━━━━━━━━━━━━━━━━━━━\u001b[0m\u001b[37m\u001b[0m \u001b[1m0s\u001b[0m 186ms/step - accuracy: 0.6667 - custom_x_w_metric: 0.4274 - loss: 0.8698 - val_accuracy: 1.0000 - val_custom_x_w_metric: 0.2584 - val_loss: 0.2989\n",
      "Epoch 25/30\n",
      "\u001b[1m1/1\u001b[0m \u001b[32m━━━━━━━━━━━━━━━━━━━━\u001b[0m\u001b[37m\u001b[0m \u001b[1m0s\u001b[0m 68ms/step - accuracy: 0.3333 - custom_x_w_metric: 0.4643 - loss: 0.8470 - val_accuracy: 1.0000 - val_custom_x_w_metric: 0.1896 - val_loss: 0.2102\n",
      "Epoch 26/30\n",
      "\u001b[1m1/1\u001b[0m \u001b[32m━━━━━━━━━━━━━━━━━━━━\u001b[0m\u001b[37m\u001b[0m \u001b[1m0s\u001b[0m 66ms/step - accuracy: 0.3333 - custom_x_w_metric: 0.5009 - loss: 0.8788 - val_accuracy: 1.0000 - val_custom_x_w_metric: 0.1483 - val_loss: 0.1605\n",
      "Epoch 27/30\n",
      "\u001b[1m1/1\u001b[0m \u001b[32m━━━━━━━━━━━━━━━━━━━━\u001b[0m\u001b[37m\u001b[0m \u001b[1m0s\u001b[0m 93ms/step - accuracy: 0.0000e+00 - custom_x_w_metric: 0.5283 - loss: 0.9351 - val_accuracy: 1.0000 - val_custom_x_w_metric: 0.1294 - val_loss: 0.1386\n",
      "Epoch 28/30\n",
      "\u001b[1m1/1\u001b[0m \u001b[32m━━━━━━━━━━━━━━━━━━━━\u001b[0m\u001b[37m\u001b[0m \u001b[1m0s\u001b[0m 186ms/step - accuracy: 0.3333 - custom_x_w_metric: 0.5421 - loss: 0.9742 - val_accuracy: 1.0000 - val_custom_x_w_metric: 0.1280 - val_loss: 0.1370\n",
      "Epoch 29/30\n",
      "\u001b[1m1/1\u001b[0m \u001b[32m━━━━━━━━━━━━━━━━━━━━\u001b[0m\u001b[37m\u001b[0m \u001b[1m0s\u001b[0m 75ms/step - accuracy: 0.3333 - custom_x_w_metric: 0.5422 - loss: 0.9721 - val_accuracy: 1.0000 - val_custom_x_w_metric: 0.1419 - val_loss: 0.1530\n",
      "Epoch 30/30\n",
      "\u001b[1m1/1\u001b[0m \u001b[32m━━━━━━━━━━━━━━━━━━━━\u001b[0m\u001b[37m\u001b[0m \u001b[1m0s\u001b[0m 68ms/step - accuracy: 0.0000e+00 - custom_x_w_metric: 0.5302 - loss: 0.9324 - val_accuracy: 1.0000 - val_custom_x_w_metric: 0.1706 - val_loss: 0.1871\n"
     ]
    }
   ],
   "source": [
    "# Train the Model\n",
    "history = model.fit(X_train, y_train, \n",
    "                    epochs=30, \n",
    "                    batch_size=32, \n",
    "                    validation_split=0.2,\n",
    "                    verbose=1)\n"
   ]
  },
  {
   "cell_type": "code",
   "execution_count": 31,
   "id": "d5fe21e2-6228-4d07-938a-17beb8e6ca91",
   "metadata": {},
   "outputs": [
    {
     "name": "stdout",
     "output_type": "stream",
     "text": [
      "Model Accuracy: 0.00\n",
      "Expected Wicket (xW) Metric: 0.52\n"
     ]
    }
   ],
   "source": [
    "# Evaluate the Model\n",
    "loss, accuracy, xW = model.evaluate(X_test, y_test, verbose=0)\n",
    "print(f\"Model Accuracy: {accuracy:.2f}\")\n",
    "print(f\"Expected Wicket (xW) Metric: {xW:.2f}\")\n",
    "\n"
   ]
  },
  {
   "cell_type": "code",
   "execution_count": 34,
   "id": "bc93c4d6-6537-4826-9d3d-7c62a1478914",
   "metadata": {},
   "outputs": [
    {
     "name": "stdout",
     "output_type": "stream",
     "text": [
      "\u001b[1m1/1\u001b[0m \u001b[32m━━━━━━━━━━━━━━━━━━━━\u001b[0m\u001b[37m\u001b[0m \u001b[1m0s\u001b[0m 263ms/step\n",
      "Predicted: 0.52, Actual: 0\n"
     ]
    }
   ],
   "source": [
    "# Make Predictions on Test Data\n",
    "y_pred = model.predict(X_test)\n",
    "\n",
    "# Ensure that y_pred is flattened if necessary\n",
    "y_pred_flat = y_pred.flatten()\n",
    "\n",
    "# Print some predicted values and actual values\n",
    "for i in range(min(10, len(y_pred_flat))):  # Ensure we do not exceed the length of y_pred_flat\n",
    "    predicted_value = y_pred_flat[i]  # Get the predicted value\n",
    "    actual_value = y_test[i]  # Get the actual value\n",
    "    print(f\"Predicted: {predicted_value:.2f}, Actual: {actual_value}\")"
   ]
  },
  {
   "cell_type": "code",
   "execution_count": 35,
   "id": "1b7ed9b2-8952-4f8c-a2b3-303929e20417",
   "metadata": {},
   "outputs": [
    {
     "data": {
      "image/png": "[encoded data removed]",
      "text/plain": [
       "<Figure size 640x480 with 1 Axes>"
      ]
     },
     "metadata": {},
     "output_type": "display_data"
    }
   ],
   "source": [
    "#Plot Training History\n",
    "plt.plot(history.history['accuracy'], label='Accuracy')\n",
    "plt.plot(history.history['val_accuracy'], label='Validation Accuracy')\n",
    "\n",
    "# Check if the custom_xW_metric exists before plotting\n",
    "if 'custom_xW_metric' in history.history:\n",
    "    plt.plot(history.history['custom_xW_metric'], label='xW Metric')\n",
    "    plt.plot(history.history['val_custom_xW_metric'], label='Val xW Metric')\n",
    "\n",
    "plt.xlabel('Epoch')\n",
    "plt.ylabel('Metric')\n",
    "plt.legend()\n",
    "plt.show()\n"
   ]
  }
 ],
 "metadata": {
  "kernelspec": {
   "display_name": "Python 3 (ipykernel)",
   "language": "python",
   "name": "python3"
  },
  "language_info": {
   "codemirror_mode": {
    "name": "ipython",
    "version": 3
   },
   "file_extension": ".py",
   "mimetype": "text/x-python",
   "name": "python",
   "nbconvert_exporter": "python",
   "pygments_lexer": "ipython3",
   "version": "3.12.5"
  }
 },
 "nbformat": 4,
 "nbformat_minor": 5
}
